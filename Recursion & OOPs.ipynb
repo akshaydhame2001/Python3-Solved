{
 "cells": [
  {
   "cell_type": "code",
   "execution_count": 2,
   "id": "50bb0a31",
   "metadata": {},
   "outputs": [],
   "source": [
    "def fact(n):\n",
    "    if n == 0:              # base case\n",
    "        return 1\n",
    "    return n * fact(n - 1) # calling function with smaller value(k: hypothesis k+1:Output)"
   ]
  },
  {
   "cell_type": "code",
   "execution_count": 4,
   "id": "eea4fc02",
   "metadata": {},
   "outputs": [
    {
     "name": "stdout",
     "output_type": "stream",
     "text": [
      "5\n"
     ]
    },
    {
     "data": {
      "text/plain": [
       "120"
      ]
     },
     "execution_count": 4,
     "metadata": {},
     "output_type": "execute_result"
    }
   ],
   "source": [
    "n=int(input())\n",
    "fact(n)"
   ]
  },
  {
   "cell_type": "code",
   "execution_count": 6,
   "id": "99e1de77",
   "metadata": {},
   "outputs": [],
   "source": [
    "# PMI (Principal of Mathematical Induction)"
   ]
  },
  {
   "cell_type": "code",
   "execution_count": 8,
   "id": "5110c15a",
   "metadata": {},
   "outputs": [
    {
     "name": "stdout",
     "output_type": "stream",
     "text": [
      "5\n"
     ]
    },
    {
     "data": {
      "text/plain": [
       "15"
      ]
     },
     "execution_count": 8,
     "metadata": {},
     "output_type": "execute_result"
    }
   ],
   "source": [
    "def sums(n):\n",
    "    if n==0:\n",
    "        return 0\n",
    "    return n + sums(n-1)\n",
    "n=int(input())\n",
    "sums(n) "
   ]
  },
  {
   "cell_type": "code",
   "execution_count": 12,
   "id": "ee58c0c1",
   "metadata": {},
   "outputs": [
    {
     "name": "stdout",
     "output_type": "stream",
     "text": [
      "Base :5\n",
      "Power 5\n"
     ]
    },
    {
     "data": {
      "text/plain": [
       "3125"
      ]
     },
     "execution_count": 12,
     "metadata": {},
     "output_type": "execute_result"
    }
   ],
   "source": [
    "def power(x,n):\n",
    "    if n==0:\n",
    "        return 1\n",
    "    return x * (x**(n-1))\n",
    "x=int(input(\"Base :\"))\n",
    "n=int(input(\"Power \"))\n",
    "power(x,n)"
   ]
  },
  {
   "cell_type": "code",
   "execution_count": 13,
   "id": "4c8284cc",
   "metadata": {},
   "outputs": [
    {
     "name": "stdout",
     "output_type": "stream",
     "text": [
      "Base :5\n",
      "Power 5\n"
     ]
    },
    {
     "data": {
      "text/plain": [
       "3125"
      ]
     },
     "execution_count": 13,
     "metadata": {},
     "output_type": "execute_result"
    }
   ],
   "source": [
    "def power(x,n):\n",
    "    if n==1:\n",
    "        return x\n",
    "    return x * (x**(n-1))\n",
    "x=int(input(\"Base :\"))\n",
    "n=int(input(\"Power \"))\n",
    "power(x,n)"
   ]
  },
  {
   "cell_type": "code",
   "execution_count": 16,
   "id": "89220d2e",
   "metadata": {},
   "outputs": [
    {
     "name": "stdout",
     "output_type": "stream",
     "text": [
      "5\n",
      "1 2 3 4 5 "
     ]
    }
   ],
   "source": [
    "def natural(n):\n",
    "    if n==0:\n",
    "        return\n",
    "    natural(n-1)\n",
    "    print(n, end=\" \")\n",
    "    return\n",
    "n=int(input())\n",
    "natural(n)"
   ]
  },
  {
   "cell_type": "code",
   "execution_count": 42,
   "id": "de2c8796",
   "metadata": {},
   "outputs": [
    {
     "name": "stdout",
     "output_type": "stream",
     "text": [
      "5\n",
      "5 4 3 2 1 "
     ]
    }
   ],
   "source": [
    "def natural(n):\n",
    "    if n==0:\n",
    "        return 1\n",
    "    print(n,end=\" \")\n",
    "    natural(n-1)\n",
    "    return\n",
    "n=int(input())\n",
    "natural(n)"
   ]
  },
  {
   "cell_type": "code",
   "execution_count": 35,
   "id": "6ee376ef",
   "metadata": {},
   "outputs": [
    {
     "name": "stdout",
     "output_type": "stream",
     "text": [
      "5\n"
     ]
    },
    {
     "data": {
      "text/plain": [
       "5"
      ]
     },
     "execution_count": 35,
     "metadata": {},
     "output_type": "execute_result"
    }
   ],
   "source": [
    "def fibo(n):\n",
    "    if n==1 or n==2:\n",
    "        return 1\n",
    "    fibo1=fibo(n-1)\n",
    "    fibo2=fibo(n-2)\n",
    "    output=fibo1+fibo2\n",
    "    return output\n",
    "n=int(input())\n",
    "fibo(n)"
   ]
  },
  {
   "cell_type": "code",
   "execution_count": 40,
   "id": "39100515",
   "metadata": {},
   "outputs": [
    {
     "data": {
      "text/plain": [
       "16"
      ]
     },
     "execution_count": 40,
     "metadata": {},
     "output_type": "execute_result"
    }
   ],
   "source": [
    "def fun(n):\n",
    "    if (n==4):\n",
    "        return n\n",
    "    else:\n",
    "        return 2*fun(n+1)\n",
    "fun(2)"
   ]
  },
  {
   "cell_type": "code",
   "execution_count": null,
   "id": "be855953",
   "metadata": {},
   "outputs": [],
   "source": [
    "# Fun(2) = 2 * Fun(3) and Fun(3) = 2 * Fun(4) ....(i)\n",
    "# Fun(4) = 4 ......(ii)\n",
    "# From equation (i) and (ii),\n",
    "# Fun(2) = 2 * 2 * Fun(4)\n",
    "# Fun(2) = 2 * 2 * 4\n",
    "# Fun(2) = 16."
   ]
  },
  {
   "cell_type": "code",
   "execution_count": 2,
   "id": "4fb30c49",
   "metadata": {},
   "outputs": [],
   "source": [
    "def fact(n):\n",
    "    if n == 0:              \n",
    "        return 1\n",
    "    return n * fact(n - 1)\n",
    "import sys\n",
    "sys.setrecursionlimit(4000)\n",
    "n=int(input())\n",
    "fact(n)"
   ]
  },
  {
   "cell_type": "code",
   "execution_count": 1,
   "id": "948b5cb4",
   "metadata": {},
   "outputs": [
    {
     "data": {
      "text/plain": [
       "4000"
      ]
     },
     "execution_count": 1,
     "metadata": {},
     "output_type": "execute_result"
    }
   ],
   "source": [
    "import sys\n",
    "sys.setrecursionlimit(4000)\n",
    "import sys\n",
    "sys.getrecursionlimit()"
   ]
  },
  {
   "cell_type": "code",
   "execution_count": 64,
   "id": "86f9c668",
   "metadata": {},
   "outputs": [
    {
     "name": "stdout",
     "output_type": "stream",
     "text": [
      "sorted\n",
      "sorted\n"
     ]
    }
   ],
   "source": [
    "l=[1,2,3,4]\n",
    "flag=0\n",
    "for i in range(0,3):\n",
    "    if (l[i]>l[i+1]):\n",
    "        print(\"unsorted\")\n",
    "        break\n",
    "else:\n",
    "    print(\"sorted\")\n",
    "    \n",
    "m=sorted(l)\n",
    "if l==m:\n",
    "    print(\"sorted\")\n",
    "else:\n",
    "    print(\"unsorted\")"
   ]
  },
  {
   "cell_type": "code",
   "execution_count": 84,
   "id": "e66650c1",
   "metadata": {},
   "outputs": [
    {
     "data": {
      "text/plain": [
       "True"
      ]
     },
     "execution_count": 84,
     "metadata": {},
     "output_type": "execute_result"
    }
   ],
   "source": [
    "# l=0 or l=1 return true\n",
    "# true (l-1)\n",
    "# if [0]>[1] return false\n",
    "# else check smaller\n",
    "def isSorted(a):\n",
    "    l=len(a)\n",
    "    if l==0 or l==1:\n",
    "        return True\n",
    "    if a[0]>a[1]:\n",
    "        return False\n",
    "    isSmallerListSorted=isSorted(a[1:])\n",
    "    return isSmallerListSorted\n",
    "a=[1,2,3,4,5,6,7,8,9]\n",
    "isSorted(a)"
   ]
  },
  {
   "cell_type": "code",
   "execution_count": 85,
   "id": "0b6fceb9",
   "metadata": {},
   "outputs": [
    {
     "data": {
      "text/plain": [
       "True"
      ]
     },
     "execution_count": 85,
     "metadata": {},
     "output_type": "execute_result"
    }
   ],
   "source": [
    "def isSortedBetter(a,si=0):\n",
    "    l=len(a)\n",
    "    if si==l-1 or si==l:\n",
    "        return True\n",
    "    if a[si]>a[si+1]:\n",
    "        return False\n",
    "    return isSortedBetter(a,si+1)\n",
    "a=[1,2,3,4,5,6,7,8,9]\n",
    "isSortedBetter(a)"
   ]
  },
  {
   "cell_type": "code",
   "execution_count": 13,
   "id": "3a80ee5c",
   "metadata": {},
   "outputs": [
    {
     "data": {
      "text/plain": [
       "45"
      ]
     },
     "execution_count": 13,
     "metadata": {},
     "output_type": "execute_result"
    }
   ],
   "source": [
    "def arraySum(a):\n",
    "    l=len(a)\n",
    "    if l==0:\n",
    "        return 0\n",
    "    return a[0]+arraySum(a[1:])\n",
    "a=[1,2,3,4,5,6,7,8,9]\n",
    "arraySum(a)"
   ]
  },
  {
   "cell_type": "code",
   "execution_count": 6,
   "id": "dca44263",
   "metadata": {},
   "outputs": [
    {
     "name": "stdout",
     "output_type": "stream",
     "text": [
      "7\n"
     ]
    },
    {
     "data": {
      "text/plain": [
       "True"
      ]
     },
     "execution_count": 6,
     "metadata": {},
     "output_type": "execute_result"
    }
   ],
   "source": [
    "def check(a,si=0):\n",
    "    l=len(a)\n",
    "    if si==l:\n",
    "        return False\n",
    "    if a[si]==x:\n",
    "        return True\n",
    "    return check(a,si+1)\n",
    "a=[1,2,7,3]\n",
    "x=int(input())\n",
    "check(a)"
   ]
  },
  {
   "cell_type": "code",
   "execution_count": 8,
   "id": "3722e7ae",
   "metadata": {},
   "outputs": [
    {
     "name": "stdout",
     "output_type": "stream",
     "text": [
      "True\n"
     ]
    }
   ],
   "source": [
    "def numCheck(list,num):\n",
    "    if len(list) == 0:\n",
    "        return False\n",
    "    if list[0] == num:\n",
    "        return True\n",
    "    return numCheck(list[1:],num)\n",
    "\n",
    "print(numCheck([1,2,7,3],7))"
   ]
  },
  {
   "cell_type": "code",
   "execution_count": 4,
   "id": "dbd1021a",
   "metadata": {},
   "outputs": [
    {
     "name": "stdout",
     "output_type": "stream",
     "text": [
      "5\n",
      "5 4 -1 3 4\n",
      "4\n"
     ]
    },
    {
     "data": {
      "text/plain": [
       "1"
      ]
     },
     "execution_count": 4,
     "metadata": {},
     "output_type": "execute_result"
    }
   ],
   "source": [
    "def firstIndex(a,x,si=0):\n",
    "    if si==l:\n",
    "        return -1\n",
    "    if a[si]==x:\n",
    "        return si\n",
    "    return firstIndex(a,x,si+1)\n",
    "l=int(input())\n",
    "a = input().split()\n",
    "a=[int(i) for i in a]\n",
    "x=int(input())\n",
    "firstIndex(a,x)"
   ]
  },
  {
   "cell_type": "code",
   "execution_count": 11,
   "id": "b6adb275",
   "metadata": {},
   "outputs": [
    {
     "name": "stdout",
     "output_type": "stream",
     "text": [
      "5\n",
      "5 4 -1 3 4\n",
      "4\n"
     ]
    },
    {
     "data": {
      "text/plain": [
       "1"
      ]
     },
     "execution_count": 11,
     "metadata": {},
     "output_type": "execute_result"
    }
   ],
   "source": [
    "def firstIndex1(a,x):\n",
    "    if l==0:\n",
    "        return -1\n",
    "    elif a[0]==x:\n",
    "        return 0\n",
    "    else:\n",
    "        ans=firstIndex1(a[1:],x)\n",
    "        if ans==-1:\n",
    "            return -1\n",
    "        else:\n",
    "            return ans+1\n",
    "    \n",
    "l=int(input())\n",
    "a = input().split()\n",
    "a=[int(i) for i in a]\n",
    "x=int(input())\n",
    "firstIndex1(a,x)"
   ]
  },
  {
   "cell_type": "code",
   "execution_count": 16,
   "id": "4aab9761",
   "metadata": {},
   "outputs": [
    {
     "name": "stdout",
     "output_type": "stream",
     "text": [
      "5\n",
      "5 4 -1 3 4\n",
      "4\n"
     ]
    },
    {
     "data": {
      "text/plain": [
       "4"
      ]
     },
     "execution_count": 16,
     "metadata": {},
     "output_type": "execute_result"
    }
   ],
   "source": [
    "def lastIndex(a,x,si=l-1):\n",
    "    if si==l:\n",
    "        return -1\n",
    "    if a[si]==x:\n",
    "        return si\n",
    "    return lastIndex(a,x,si-2)\n",
    "l=int(input())\n",
    "a = input().split()\n",
    "a=[int(i) for i in a]\n",
    "x=int(input())\n",
    "lastIndex(a,x)"
   ]
  },
  {
   "cell_type": "code",
   "execution_count": 3,
   "id": "09ae9e72",
   "metadata": {},
   "outputs": [
    {
     "name": "stdout",
     "output_type": "stream",
     "text": [
      "5\n",
      "5 4 -1 3 4\n",
      "4\n"
     ]
    },
    {
     "data": {
      "text/plain": [
       "4"
      ]
     },
     "execution_count": 3,
     "metadata": {},
     "output_type": "execute_result"
    }
   ],
   "source": [
    "def lastIndex1(a,x,si=0):\n",
    "    if si==l:\n",
    "        return -1\n",
    "    ans=lastIndex1(a,x,si+1)\n",
    "    if ans!=-1:\n",
    "        return ans\n",
    "    else:\n",
    "        if a[si]==x:\n",
    "            return si\n",
    "        else:\n",
    "            return -1\n",
    "l=int(input())\n",
    "a = input().split()\n",
    "a=[int(i) for i in a]\n",
    "x=int(input())\n",
    "lastIndex1(a,x)"
   ]
  },
  {
   "cell_type": "code",
   "execution_count": 3,
   "id": "d67f6a82",
   "metadata": {},
   "outputs": [],
   "source": [
    "def lastIndex2(a,x):\n",
    "    if l==0:\n",
    "        return -1\n",
    "    ans=lastIndex2(a[1:],x)\n",
    "    if ans!=-1:\n",
    "        return ans+1\n",
    "    else:\n",
    "        if a[0]==x:\n",
    "            return 0\n",
    "        else:\n",
    "            return -1"
   ]
  },
  {
   "cell_type": "code",
   "execution_count": 7,
   "id": "fa2f3210",
   "metadata": {},
   "outputs": [
    {
     "data": {
      "text/plain": [
       "'daxdaxxd'"
      ]
     },
     "execution_count": 7,
     "metadata": {},
     "output_type": "execute_result"
    }
   ],
   "source": [
    "def replaceChar(s, a, b):\n",
    "    if len(s)==0:\n",
    "        return s\n",
    "    smallOutput=replaceChar(s[1:], a, b)\n",
    "    if s[0]==a:\n",
    "        return b+smallOutput\n",
    "    else:\n",
    "        return s[0]+smallOutput\n",
    "replaceChar(\"dacdaxcd\", \"c\", \"x\")"
   ]
  },
  {
   "cell_type": "code",
   "execution_count": 9,
   "id": "996ba202",
   "metadata": {},
   "outputs": [
    {
     "data": {
      "text/plain": [
       "'dacdacd'"
      ]
     },
     "execution_count": 9,
     "metadata": {},
     "output_type": "execute_result"
    }
   ],
   "source": [
    "def removeX(s):\n",
    "    if len(s)==0:\n",
    "        return s\n",
    "    smallOutput=removeX(s[1:])\n",
    "    if s[0]==\"x\":\n",
    "        return smallOutput\n",
    "    else:\n",
    "        return s[0]+smallOutput\n",
    "removeX(\"dacdaxcd\")"
   ]
  },
  {
   "cell_type": "code",
   "execution_count": 15,
   "id": "a0de769b",
   "metadata": {},
   "outputs": [
    {
     "data": {
      "text/plain": [
       "'3.143.14'"
      ]
     },
     "execution_count": 15,
     "metadata": {},
     "output_type": "execute_result"
    }
   ],
   "source": [
    "def replacePi(s):\n",
    "    if len(s)==0 or len(s)==1:\n",
    "        return s\n",
    "    if s[0]==\"p\" and s[1]==\"i\":\n",
    "        smallOutput=replacePi(s[2:])\n",
    "        return \"3.14\"+smallOutput\n",
    "    else:\n",
    "        smallOutput=replacePi(s[1:])\n",
    "        return s[0]+smallOutput\n",
    "replacePi(\"pi3.14\")"
   ]
  },
  {
   "cell_type": "code",
   "execution_count": 20,
   "id": "8d32b631",
   "metadata": {},
   "outputs": [
    {
     "data": {
      "text/plain": [
       "'abca'"
      ]
     },
     "execution_count": 20,
     "metadata": {},
     "output_type": "execute_result"
    }
   ],
   "source": [
    "def removeDuplicate(s):\n",
    "    if len(s)==0 or len(s)==1:\n",
    "        return s\n",
    "    smallOutput=removeDuplicate(s[1:])\n",
    "    if s[0]==s[1]:\n",
    "        return smallOutput\n",
    "    else:\n",
    "        return s[0]+smallOutput\n",
    "removeDuplicate(\"aaabbcccaa\")"
   ]
  },
  {
   "cell_type": "code",
   "execution_count": 1,
   "id": "277d1930",
   "metadata": {},
   "outputs": [
    {
     "data": {
      "text/plain": [
       "1"
      ]
     },
     "execution_count": 1,
     "metadata": {},
     "output_type": "execute_result"
    }
   ],
   "source": [
    "def binarySearch(a, x, si, ei):\n",
    "    if si>ei:\n",
    "        return -1\n",
    "    mid=(si+ei)//2\n",
    "    if a[mid]==x:\n",
    "        return mid\n",
    "    elif a[mid]>x:\n",
    "        return binarySearch(a, x, si, mid-1)\n",
    "    else:\n",
    "        return binarySearch(a, x, mid+1, ei)\n",
    "binarySearch([1,3,5,7,9,11,13,15,16,17], 3, 0, 9)"
   ]
  },
  {
   "cell_type": "code",
   "execution_count": 2,
   "id": "01a0a643",
   "metadata": {},
   "outputs": [],
   "source": [
    "def merge(a1,a2,a):\n",
    "    i=0\n",
    "    j=0\n",
    "    k=0\n",
    "    while i<len(a1) and j<len(a2):\n",
    "        if (a1[i]<a2[j]):\n",
    "            a[k]=a1[i]\n",
    "            k=k+1\n",
    "            i=i+1\n",
    "        else:\n",
    "            a[k]=a2[j]\n",
    "            k=k+1\n",
    "            j=j+1\n",
    "    while i<len(a1):\n",
    "        a[k]=a1[i]\n",
    "        k=k+1\n",
    "        i=i+1\n",
    "    while j<len(a2):\n",
    "        a[k]=a2[j]\n",
    "        k=k+1\n",
    "        j=j+1"
   ]
  },
  {
   "cell_type": "code",
   "execution_count": 3,
   "id": "67dd12c4",
   "metadata": {},
   "outputs": [],
   "source": [
    "def merge_sort(a):\n",
    "    if len(a)==0 or len(a)==1:\n",
    "        return\n",
    "    mid=len(a)//2\n",
    "    a1=a[0:mid]\n",
    "    a2=a[mid:]\n",
    "    merge_sort(a1)\n",
    "    merge_sort(a2)\n",
    "    merge(a1,a2,a)"
   ]
  },
  {
   "cell_type": "code",
   "execution_count": 5,
   "id": "e1f298fd",
   "metadata": {},
   "outputs": [
    {
     "data": {
      "text/plain": [
       "[1, 3, 4, 5, 7, 9, 10]"
      ]
     },
     "execution_count": 5,
     "metadata": {},
     "output_type": "execute_result"
    }
   ],
   "source": [
    "a=[10,5,3,1,7,9,4]\n",
    "merge_sort(a)\n",
    "a"
   ]
  },
  {
   "cell_type": "code",
   "execution_count": 21,
   "id": "d3278abf",
   "metadata": {},
   "outputs": [
    {
     "name": "stdout",
     "output_type": "stream",
     "text": [
      "[2, 1, 3, 6, 7]\n"
     ]
    }
   ],
   "source": [
    "def quicksort(a,n):\n",
    "    count=0\n",
    "    for i in range(1,n):\n",
    "        if a[i]<a[0]:\n",
    "            count+=1\n",
    "    k=a[0]\n",
    "    a.remove(a[0])\n",
    "    a.insert(count,k)\n",
    "    \n",
    "a=[3,2,1,6,7]\n",
    "n=5\n",
    "quicksort(a,n)\n",
    "print(a)"
   ]
  },
  {
   "cell_type": "code",
   "execution_count": 17,
   "id": "d3df18c5",
   "metadata": {},
   "outputs": [],
   "source": [
    "def partition(a,si,ei):\n",
    "    pivot = a[si]\n",
    "    c = 0\n",
    "    for i in range(si,ei+1):\n",
    "        if a[i] < pivot:\n",
    "            c+=1\n",
    "    a[si+c], a[si] = a[si], a[si+c]\n",
    "    pivot_index = si + c\n",
    "    \n",
    "    i=si\n",
    "    j=ei\n",
    "    while i < j:\n",
    "        if a[i] < pivot:\n",
    "            i+=1\n",
    "        elif a[j] >= pivot:\n",
    "            j-=1\n",
    "        else:\n",
    "            a[i],a[j]=a[j],a[i]\n",
    "            i+=1\n",
    "            j-=1\n",
    "    return pivot_index"
   ]
  },
  {
   "cell_type": "code",
   "execution_count": 18,
   "id": "ddd6f4cf",
   "metadata": {},
   "outputs": [],
   "source": [
    "def quick_sort(a,si,ei):\n",
    "    if si>=ei:\n",
    "        return\n",
    "    \n",
    "    pivot_index = partition(a,si,ei)\n",
    "    quick_sort(a, si, pivot_index - 1)\n",
    "    quick_sort(a, pivot_index + 1, ei)"
   ]
  },
  {
   "cell_type": "code",
   "execution_count": 19,
   "id": "9587eb21",
   "metadata": {},
   "outputs": [
    {
     "name": "stdout",
     "output_type": "stream",
     "text": [
      "5\n"
     ]
    },
    {
     "data": {
      "text/plain": [
       "[1, 2, 4, 5, 3, 6, 7, 8, 9, 10]"
      ]
     },
     "execution_count": 19,
     "metadata": {},
     "output_type": "execute_result"
    }
   ],
   "source": [
    "a=[6,10,9,8,7,1,3,5,4,2]\n",
    "print(partition(a,0,len(a)-1))\n",
    "a"
   ]
  },
  {
   "cell_type": "code",
   "execution_count": 20,
   "id": "58965b67",
   "metadata": {},
   "outputs": [
    {
     "data": {
      "text/plain": [
       "[1, 2, 3, 4, 5, 6, 7, 8, 9, 10]"
      ]
     },
     "execution_count": 20,
     "metadata": {},
     "output_type": "execute_result"
    }
   ],
   "source": [
    "a=[6,10,9,8,7,1,3,5,4,2]\n",
    "quick_sort(a,0,len(a)-1)\n",
    "a"
   ]
  },
  {
   "cell_type": "code",
   "execution_count": 22,
   "id": "f2240be5",
   "metadata": {},
   "outputs": [],
   "source": [
    "def tower_hanoi(n,a,b,c):\n",
    "    if n==1:\n",
    "        print(\"move first disk from\", a, \"to\", c)\n",
    "        return\n",
    "    tower_hanoi(n-1, a, c, b)\n",
    "    print(\"move\", n, \"nth disk from\", a, \"to\", c)\n",
    "    tower_hanoi(n-1, b, a, c)"
   ]
  },
  {
   "cell_type": "code",
   "execution_count": 23,
   "id": "9664b9b1",
   "metadata": {},
   "outputs": [
    {
     "name": "stdout",
     "output_type": "stream",
     "text": [
      "move first disk from s to d\n"
     ]
    }
   ],
   "source": [
    "tower_hanoi(1,\"s\",\"h\",\"d\")"
   ]
  },
  {
   "cell_type": "code",
   "execution_count": 24,
   "id": "58b2bd33",
   "metadata": {},
   "outputs": [
    {
     "name": "stdout",
     "output_type": "stream",
     "text": [
      "move first disk from s to h\n",
      "move 2 nth disk from s to d\n",
      "move first disk from h to d\n"
     ]
    }
   ],
   "source": [
    "tower_hanoi(2,\"s\",\"h\",\"d\")"
   ]
  },
  {
   "cell_type": "code",
   "execution_count": 25,
   "id": "6213c156",
   "metadata": {},
   "outputs": [
    {
     "name": "stdout",
     "output_type": "stream",
     "text": [
      "move first disk from s to d\n",
      "move 2 nth disk from s to h\n",
      "move first disk from d to h\n",
      "move 3 nth disk from s to d\n",
      "move first disk from h to s\n",
      "move 2 nth disk from h to d\n",
      "move first disk from s to d\n"
     ]
    }
   ],
   "source": [
    "tower_hanoi(3,\"s\",\"h\",\"d\")"
   ]
  },
  {
   "cell_type": "code",
   "execution_count": 30,
   "id": "ddc223ec",
   "metadata": {},
   "outputs": [],
   "source": [
    "def Gsum(k):\n",
    "    if k==0:\n",
    "        return 1\n",
    "    return 1/pow(2,k) + Gsum(k-1)"
   ]
  },
  {
   "cell_type": "code",
   "execution_count": 32,
   "id": "b264ea8c",
   "metadata": {},
   "outputs": [
    {
     "data": {
      "text/plain": [
       "1.9375"
      ]
     },
     "execution_count": 32,
     "metadata": {},
     "output_type": "execute_result"
    }
   ],
   "source": [
    "Gsum(4)"
   ]
  },
  {
   "cell_type": "code",
   "execution_count": 66,
   "id": "36647cf0",
   "metadata": {},
   "outputs": [],
   "source": [
    "def helpPal(s,si,ei):\n",
    "    if si==ei:\n",
    "        return True\n",
    "    if s[si]!=s[ei]:\n",
    "        return False\n",
    "    if si<ei+1:\n",
    "        return helpPal(s,si+1,ei-1)\n",
    "    return True"
   ]
  },
  {
   "cell_type": "code",
   "execution_count": 67,
   "id": "2ac07301",
   "metadata": {},
   "outputs": [],
   "source": [
    "def isPalindrome(s):\n",
    "    if len(s)==0:\n",
    "        return True\n",
    "    return helpPal(s,0,len(s)-1)"
   ]
  },
  {
   "cell_type": "code",
   "execution_count": 68,
   "id": "5e29a55d",
   "metadata": {},
   "outputs": [
    {
     "data": {
      "text/plain": [
       "False"
      ]
     },
     "execution_count": 68,
     "metadata": {},
     "output_type": "execute_result"
    }
   ],
   "source": [
    "isPalindrome(\"abckba\")"
   ]
  },
  {
   "cell_type": "code",
   "execution_count": 69,
   "id": "113492ab",
   "metadata": {},
   "outputs": [
    {
     "data": {
      "text/plain": [
       "True"
      ]
     },
     "execution_count": 69,
     "metadata": {},
     "output_type": "execute_result"
    }
   ],
   "source": [
    "isPalindrome(\"abcba\")"
   ]
  },
  {
   "cell_type": "code",
   "execution_count": 70,
   "id": "3cfdfaec",
   "metadata": {},
   "outputs": [],
   "source": [
    "def sum_of_digit(n):\n",
    "    if n == 0:\n",
    "        return 0\n",
    "    return (n % 10 + sum_of_digit(int(n / 10)))"
   ]
  },
  {
   "cell_type": "code",
   "execution_count": 73,
   "id": "306fad77",
   "metadata": {},
   "outputs": [
    {
     "data": {
      "text/plain": [
       "15"
      ]
     },
     "execution_count": 73,
     "metadata": {},
     "output_type": "execute_result"
    }
   ],
   "source": [
    "sum_of_digit(12345)"
   ]
  },
  {
   "cell_type": "code",
   "execution_count": 83,
   "id": "35459837",
   "metadata": {},
   "outputs": [],
   "source": [
    "def multi(m,n):\n",
    "    if n==0:\n",
    "        return 0\n",
    "    return m*(n-1) + m"
   ]
  },
  {
   "cell_type": "code",
   "execution_count": 84,
   "id": "5b191993",
   "metadata": {},
   "outputs": [
    {
     "data": {
      "text/plain": [
       "15"
      ]
     },
     "execution_count": 84,
     "metadata": {},
     "output_type": "execute_result"
    }
   ],
   "source": [
    "multi(3,5)"
   ]
  },
  {
   "cell_type": "code",
   "execution_count": 94,
   "id": "f99289d4",
   "metadata": {},
   "outputs": [],
   "source": [
    "def countZeros(n):\n",
    "    if n==0:\n",
    "        return 1\n",
    "    if n<10:\n",
    "        return 0\n",
    "    elif n%10==0:\n",
    "        return 1+countZeros(n//10)\n",
    "    return countZeros(n//10)"
   ]
  },
  {
   "cell_type": "code",
   "execution_count": 100,
   "id": "025efb89",
   "metadata": {},
   "outputs": [
    {
     "data": {
      "text/plain": [
       "1"
      ]
     },
     "execution_count": 100,
     "metadata": {},
     "output_type": "execute_result"
    }
   ],
   "source": [
    "countZeros(0)"
   ]
  },
  {
   "cell_type": "code",
   "execution_count": 101,
   "id": "133ae56e",
   "metadata": {},
   "outputs": [
    {
     "data": {
      "text/plain": [
       "2"
      ]
     },
     "execution_count": 101,
     "metadata": {},
     "output_type": "execute_result"
    }
   ],
   "source": [
    "countZeros(1001)"
   ]
  },
  {
   "cell_type": "code",
   "execution_count": 126,
   "id": "53ca626f",
   "metadata": {},
   "outputs": [],
   "source": [
    "def stringInt(s):\n",
    "    if len(s)==1:\n",
    "        return ord(s[0])-48\n",
    "    return (ord(s[0])-48)*(10**(len(s)-1))+stringInt(s[1:])"
   ]
  },
  {
   "cell_type": "code",
   "execution_count": 127,
   "id": "5338c462",
   "metadata": {},
   "outputs": [
    {
     "data": {
      "text/plain": [
       "123"
      ]
     },
     "execution_count": 127,
     "metadata": {},
     "output_type": "execute_result"
    }
   ],
   "source": [
    "stringInt(\"123\")"
   ]
  },
  {
   "cell_type": "code",
   "execution_count": 134,
   "id": "c8051ec6",
   "metadata": {},
   "outputs": [],
   "source": [
    "def StringInt(s):\n",
    "    if len(s)==0:\n",
    "        return 0\n",
    "    return stringInt(s[0:len(s)-1])*10 + (ord(s[len(s)-1])-48)"
   ]
  },
  {
   "cell_type": "code",
   "execution_count": 135,
   "id": "cdd9aba9",
   "metadata": {},
   "outputs": [
    {
     "data": {
      "text/plain": [
       "123"
      ]
     },
     "execution_count": 135,
     "metadata": {},
     "output_type": "execute_result"
    }
   ],
   "source": [
    "StringInt(\"123\")"
   ]
  },
  {
   "cell_type": "code",
   "execution_count": 138,
   "id": "0be6885a",
   "metadata": {},
   "outputs": [],
   "source": [
    "def PairStar(s,si):\n",
    "    l = len(s)\n",
    "    if si == l or si == l-1:\n",
    "        return s[si]\n",
    "    \n",
    "    if s[si] == s[si+1]:\n",
    "        return s[si]+ \"*\" + PairStar(s,si+1)\n",
    "    else:\n",
    "        return s[si] + PairStar(s,si+1)"
   ]
  },
  {
   "cell_type": "code",
   "execution_count": 139,
   "id": "68a7f472",
   "metadata": {},
   "outputs": [
    {
     "data": {
      "text/plain": [
       "'hel*lo'"
      ]
     },
     "execution_count": 139,
     "metadata": {},
     "output_type": "execute_result"
    }
   ],
   "source": [
    "PairStar(\"hello\",0)"
   ]
  },
  {
   "cell_type": "code",
   "execution_count": 140,
   "id": "191185e5",
   "metadata": {},
   "outputs": [],
   "source": [
    "def findStep(n):\n",
    "    if ( n == 0 ):\n",
    "        return 1\n",
    "    elif (n < 0):\n",
    "        return 0\n",
    " \n",
    "    else:\n",
    "        return findStep(n - 3) + findStep(n - 2) + findStep(n - 1)"
   ]
  },
  {
   "cell_type": "code",
   "execution_count": 141,
   "id": "ef54192d",
   "metadata": {},
   "outputs": [
    {
     "data": {
      "text/plain": [
       "7"
      ]
     },
     "execution_count": 141,
     "metadata": {},
     "output_type": "execute_result"
    }
   ],
   "source": [
    "findStep(4)"
   ]
  },
  {
   "cell_type": "code",
   "execution_count": 146,
   "id": "dee61153",
   "metadata": {},
   "outputs": [
    {
     "data": {
      "text/plain": [
       "4"
      ]
     },
     "execution_count": 146,
     "metadata": {},
     "output_type": "execute_result"
    }
   ],
   "source": [
    "findStep(3)"
   ]
  },
  {
   "cell_type": "code",
   "execution_count": 5,
   "id": "21a58b4f",
   "metadata": {},
   "outputs": [],
   "source": [
    "def subs(s):\n",
    "    if len(s) == 0:\n",
    "        output = []\n",
    "        output.append(\"\")\n",
    "        return output\n",
    "    \n",
    "    smallerString = s[1:]\n",
    "    print(smallerString)\n",
    "    smallerOutput = subs(smallerString)\n",
    "    print(smallerOutput)\n",
    "    \n",
    "    output = []\n",
    "    for sub in smallerOutput:\n",
    "        output.append(sub)\n",
    "        \n",
    "    for sub in smallerOutput:\n",
    "        subs_with_zeroth_char = s[0] + sub\n",
    "        output.append(subs_with_zeroth_char)\n",
    "        \n",
    "    return output   "
   ]
  },
  {
   "cell_type": "code",
   "execution_count": 6,
   "id": "d823305b",
   "metadata": {},
   "outputs": [
    {
     "name": "stdout",
     "output_type": "stream",
     "text": [
      "bc\n",
      "c\n",
      "\n",
      "['']\n",
      "['', 'c']\n",
      "['', 'c', 'b', 'bc']\n"
     ]
    },
    {
     "data": {
      "text/plain": [
       "['', 'c', 'b', 'bc', 'a', 'ac', 'ab', 'abc']"
      ]
     },
     "execution_count": 6,
     "metadata": {},
     "output_type": "execute_result"
    }
   ],
   "source": [
    "subs(\"abc\") #2^n"
   ]
  },
  {
   "cell_type": "code",
   "execution_count": 11,
   "id": "01866ecd",
   "metadata": {},
   "outputs": [],
   "source": [
    "def getString(d):\n",
    "    if d == 2:\n",
    "        return \"abc\"\n",
    "    if d == 3:\n",
    "        return \"def\"\n",
    "    if d == 4:\n",
    "        return \"ghi\"\n",
    "    if d == 5:\n",
    "        return \"jkl\"\n",
    "    if d == 6:\n",
    "        return \"mno\"\n",
    "    if d == 7:\n",
    "        return \"pqrs\"\n",
    "    if d == 8:\n",
    "        return \"tuv\"\n",
    "    if d == 9:\n",
    "        return \"wxyz\""
   ]
  },
  {
   "cell_type": "code",
   "execution_count": 8,
   "id": "3043cea4",
   "metadata": {},
   "outputs": [],
   "source": [
    "def keypad(n):\n",
    "    if n == 0:\n",
    "        output = []\n",
    "        output.append(\"\")\n",
    "        return output\n",
    "    \n",
    "    smallerNumber = n//10\n",
    "    lastDigit = n % 10\n",
    "    \n",
    "    smallerOutput = keypad(smallerNumber)\n",
    "    optionsForLastDigit = getString(lastDigit)\n",
    "    \n",
    "    output = []\n",
    "    \n",
    "    for s in smallerOutput:\n",
    "        for c in optionsForLastDigit:\n",
    "            option = s + c\n",
    "            output.append(option)\n",
    "    return output"
   ]
  },
  {
   "cell_type": "code",
   "execution_count": 9,
   "id": "dc6cb6dd",
   "metadata": {},
   "outputs": [
    {
     "data": {
      "text/plain": [
       "['ad', 'ae', 'af', 'bd', 'be', 'bf', 'cd', 'ce', 'cf']"
      ]
     },
     "execution_count": 9,
     "metadata": {},
     "output_type": "execute_result"
    }
   ],
   "source": [
    "keypad(23)"
   ]
  },
  {
   "cell_type": "code",
   "execution_count": 15,
   "id": "e954dfd1",
   "metadata": {},
   "outputs": [
    {
     "name": "stdout",
     "output_type": "stream",
     "text": [
      "36 ['adp', 'adq', 'adr', 'ads', 'aep', 'aeq', 'aer', 'aes', 'afp', 'afq', 'afr', 'afs', 'bdp', 'bdq', 'bdr', 'bds', 'bep', 'beq', 'ber', 'bes', 'bfp', 'bfq', 'bfr', 'bfs', 'cdp', 'cdq', 'cdr', 'cds', 'cep', 'ceq', 'cer', 'ces', 'cfp', 'cfq', 'cfr', 'cfs']\n"
     ]
    }
   ],
   "source": [
    "print(len(keypad(237)), keypad(237))"
   ]
  },
  {
   "cell_type": "code",
   "execution_count": 12,
   "id": "7ee20c11",
   "metadata": {},
   "outputs": [],
   "source": [
    "def printKeypad(n, outputSoFar=\"\"):\n",
    "    if n == 0:\n",
    "        print(outputSoFar)\n",
    "        return\n",
    "    smallNumber = n//10\n",
    "    lastDigit = n % 10\n",
    "    \n",
    "    optionsForLastDigit = getString(lastDigit)\n",
    "    for c in optionsForLastDigit:\n",
    "        newOutput = c + outputSoFar\n",
    "        printKeypad(smallNumber, newOutput)"
   ]
  },
  {
   "cell_type": "code",
   "execution_count": 13,
   "id": "62f7d22c",
   "metadata": {},
   "outputs": [
    {
     "name": "stdout",
     "output_type": "stream",
     "text": [
      "ad\n",
      "bd\n",
      "cd\n",
      "ae\n",
      "be\n",
      "ce\n",
      "af\n",
      "bf\n",
      "cf\n"
     ]
    }
   ],
   "source": [
    "printKeypad(23)"
   ]
  },
  {
   "cell_type": "code",
   "execution_count": 16,
   "id": "d533829c",
   "metadata": {},
   "outputs": [],
   "source": [
    "def printFact(n,ans=1):\n",
    "    if n == 0:\n",
    "        print(ans)\n",
    "        return\n",
    "    ans = ans * n\n",
    "    return printFact(n-1,ans)"
   ]
  },
  {
   "cell_type": "code",
   "execution_count": 17,
   "id": "224f188f",
   "metadata": {},
   "outputs": [
    {
     "name": "stdout",
     "output_type": "stream",
     "text": [
      "120\n"
     ]
    }
   ],
   "source": [
    "printFact(5)"
   ]
  },
  {
   "cell_type": "code",
   "execution_count": 18,
   "id": "361a0b85",
   "metadata": {},
   "outputs": [],
   "source": [
    "def minList(l):\n",
    "    if len(l) == 0:\n",
    "        return l[0]\n",
    "    \n",
    "    minSmalArray = minList(l[1:])\n",
    "    overallMin = min(minSmallArray, l[0])\n",
    "    return overallMin"
   ]
  },
  {
   "cell_type": "code",
   "execution_count": 21,
   "id": "7508df0e",
   "metadata": {},
   "outputs": [],
   "source": [
    "def printMin(l,minSoFar = 1000000):\n",
    "    if len(l) == 0:\n",
    "        print(minSoFar)\n",
    "        return\n",
    "        \n",
    "    newMin = min(minSoFar, l[0])\n",
    "    printMin(l[1:], newMin)"
   ]
  },
  {
   "cell_type": "code",
   "execution_count": 22,
   "id": "cd9fa1a3",
   "metadata": {},
   "outputs": [
    {
     "name": "stdout",
     "output_type": "stream",
     "text": [
      "-4\n"
     ]
    }
   ],
   "source": [
    "printMin([1,-1,-3,5,7,3,2,1,-4])"
   ]
  },
  {
   "cell_type": "code",
   "execution_count": 3,
   "id": "497d2607",
   "metadata": {},
   "outputs": [],
   "source": [
    "def printSubs(s, o=\"\"):\n",
    "    if len(s) == 0:\n",
    "        print(o)\n",
    "        return\n",
    "    \n",
    "    # don't include oth char\n",
    "    printSubs(s[1:], o)\n",
    "    \n",
    "    # include oth char\n",
    "    newOutput = o + s[0]\n",
    "    printSubs(s[1:], newOutput)"
   ]
  },
  {
   "cell_type": "code",
   "execution_count": 6,
   "id": "4325e28f",
   "metadata": {},
   "outputs": [
    {
     "name": "stdout",
     "output_type": "stream",
     "text": [
      "\n",
      "c\n",
      "b\n",
      "bc\n",
      "a\n",
      "ac\n",
      "ab\n",
      "abc\n"
     ]
    }
   ],
   "source": [
    "printSubs(\"abc\")"
   ]
  },
  {
   "cell_type": "code",
   "execution_count": null,
   "id": "37926bf9",
   "metadata": {},
   "outputs": [],
   "source": []
  },
  {
   "cell_type": "markdown",
   "id": "779f9f6b",
   "metadata": {},
   "source": [
    "# OOPs"
   ]
  },
  {
   "cell_type": "markdown",
   "id": "feffe532",
   "metadata": {},
   "source": [
    "class is a templete and object is an instance of class"
   ]
  },
  {
   "cell_type": "code",
   "execution_count": 2,
   "id": "72861229",
   "metadata": {},
   "outputs": [],
   "source": [
    "class Student:\n",
    "    #name=\"\"\n",
    "    #rollNumber=12\n",
    "    pass"
   ]
  },
  {
   "cell_type": "code",
   "execution_count": 3,
   "id": "e2a16d9a",
   "metadata": {},
   "outputs": [],
   "source": [
    "s1=Student()"
   ]
  },
  {
   "cell_type": "code",
   "execution_count": 4,
   "id": "4e43e137",
   "metadata": {},
   "outputs": [
    {
     "name": "stdout",
     "output_type": "stream",
     "text": [
      "<__main__.Student object at 0x000001EBAF51DCD0>\n"
     ]
    }
   ],
   "source": [
    "print(s1)"
   ]
  },
  {
   "cell_type": "code",
   "execution_count": 5,
   "id": "32e8df49",
   "metadata": {},
   "outputs": [
    {
     "name": "stdout",
     "output_type": "stream",
     "text": [
      "<class '__main__.Student'>\n"
     ]
    }
   ],
   "source": [
    "print(type(s1))"
   ]
  },
  {
   "cell_type": "code",
   "execution_count": 6,
   "id": "ad4d9a4b",
   "metadata": {},
   "outputs": [
    {
     "name": "stdout",
     "output_type": "stream",
     "text": [
      "<class 'list'>\n"
     ]
    }
   ],
   "source": [
    "l=list()\n",
    "print(type(l))"
   ]
  },
  {
   "cell_type": "code",
   "execution_count": 9,
   "id": "83e32006",
   "metadata": {},
   "outputs": [
    {
     "name": "stdout",
     "output_type": "stream",
     "text": [
      "<__main__.Student object at 0x000001EBAF5D64C0> <__main__.Student object at 0x000001EBAF54DA90>\n"
     ]
    }
   ],
   "source": [
    "s2=Student()\n",
    "s3=Student()\n",
    "print(s2,s3)"
   ]
  },
  {
   "cell_type": "code",
   "execution_count": 10,
   "id": "4276ad81",
   "metadata": {},
   "outputs": [],
   "source": [
    "s1.name=\"Ankush\""
   ]
  },
  {
   "cell_type": "code",
   "execution_count": 11,
   "id": "8d77f01f",
   "metadata": {},
   "outputs": [],
   "source": [
    "s2.rollNumber=12"
   ]
  },
  {
   "cell_type": "code",
   "execution_count": 12,
   "id": "d6eed8f2",
   "metadata": {},
   "outputs": [],
   "source": [
    "s3.name=\"Rohan\"\n",
    "s3.rollNumber=13"
   ]
  },
  {
   "cell_type": "code",
   "execution_count": 14,
   "id": "af070c42",
   "metadata": {},
   "outputs": [
    {
     "data": {
      "text/plain": [
       "'Rohan'"
      ]
     },
     "execution_count": 14,
     "metadata": {},
     "output_type": "execute_result"
    }
   ],
   "source": [
    "s3.name"
   ]
  },
  {
   "cell_type": "code",
   "execution_count": 15,
   "id": "33793864",
   "metadata": {},
   "outputs": [
    {
     "data": {
      "text/plain": [
       "{'name': 'Rohan', 'rollNumber': 13}"
      ]
     },
     "execution_count": 15,
     "metadata": {},
     "output_type": "execute_result"
    }
   ],
   "source": [
    "s3.__dict__"
   ]
  },
  {
   "cell_type": "code",
   "execution_count": 16,
   "id": "0b5f1391",
   "metadata": {},
   "outputs": [
    {
     "data": {
      "text/plain": [
       "True"
      ]
     },
     "execution_count": 16,
     "metadata": {},
     "output_type": "execute_result"
    }
   ],
   "source": [
    "hasattr(s1,\"name\")"
   ]
  },
  {
   "cell_type": "code",
   "execution_count": 17,
   "id": "1691872c",
   "metadata": {},
   "outputs": [
    {
     "data": {
      "text/plain": [
       "'Ankush'"
      ]
     },
     "execution_count": 17,
     "metadata": {},
     "output_type": "execute_result"
    }
   ],
   "source": [
    "getattr(s1,\"name\")"
   ]
  },
  {
   "cell_type": "code",
   "execution_count": 18,
   "id": "ee5bda55",
   "metadata": {},
   "outputs": [
    {
     "data": {
      "text/plain": [
       "''"
      ]
     },
     "execution_count": 18,
     "metadata": {},
     "output_type": "execute_result"
    }
   ],
   "source": [
    "getattr(s2,\"name\",\"\")"
   ]
  },
  {
   "cell_type": "code",
   "execution_count": 19,
   "id": "ac6df82a",
   "metadata": {},
   "outputs": [],
   "source": [
    "delattr(s1,\"name\")"
   ]
  },
  {
   "cell_type": "code",
   "execution_count": 20,
   "id": "26a217c5",
   "metadata": {},
   "outputs": [
    {
     "data": {
      "text/plain": [
       "{}"
      ]
     },
     "execution_count": 20,
     "metadata": {},
     "output_type": "execute_result"
    }
   ],
   "source": [
    "s1.__dict__"
   ]
  },
  {
   "cell_type": "code",
   "execution_count": 91,
   "id": "d62cb610",
   "metadata": {},
   "outputs": [],
   "source": [
    "class Student:\n",
    "    passingPercentage=40\n",
    "    def studentDetails(self): #instance method\n",
    "        self.name=\"Akshay\"\n",
    "        print(\"Name=\",self.name)\n",
    "        self.percentage=80\n",
    "        print(\"Percentage=\",self.percentage)\n",
    "        pass\n",
    "    \n",
    "    def isPassed(self):\n",
    "        print(self.passingPercentage)\n",
    "        if self.percentage > Student.passingPercentage:\n",
    "            print(\"Student is passed\")\n",
    "        else:\n",
    "            print(\"Student is not passed\")\n",
    "    @staticmethod\n",
    "    def welcomeToSchool():\n",
    "        print(\"Hey! Welcome to School\")\n",
    "    \n",
    "    @staticmethod\n",
    "    def isTeen(age):   #utility function\n",
    "        return age>16"
   ]
  },
  {
   "cell_type": "code",
   "execution_count": 92,
   "id": "750afd44",
   "metadata": {},
   "outputs": [],
   "source": [
    "s1=Student()"
   ]
  },
  {
   "cell_type": "code",
   "execution_count": 72,
   "id": "c818a8c3",
   "metadata": {},
   "outputs": [
    {
     "name": "stdout",
     "output_type": "stream",
     "text": [
      "Name= Akshay\n",
      "Percentage= 80\n"
     ]
    }
   ],
   "source": [
    "s1.studentDetails()"
   ]
  },
  {
   "cell_type": "code",
   "execution_count": 73,
   "id": "1571ba87",
   "metadata": {},
   "outputs": [
    {
     "name": "stdout",
     "output_type": "stream",
     "text": [
      "Name= Akshay\n",
      "Percentage= 80\n"
     ]
    }
   ],
   "source": [
    "Student.studentDetails(s1)"
   ]
  },
  {
   "cell_type": "code",
   "execution_count": 74,
   "id": "c270949b",
   "metadata": {},
   "outputs": [
    {
     "name": "stdout",
     "output_type": "stream",
     "text": [
      "40\n",
      "Student is passed\n"
     ]
    }
   ],
   "source": [
    "s1.isPassed()"
   ]
  },
  {
   "cell_type": "code",
   "execution_count": 94,
   "id": "2c52a5db",
   "metadata": {},
   "outputs": [
    {
     "data": {
      "text/plain": [
       "True"
      ]
     },
     "execution_count": 94,
     "metadata": {},
     "output_type": "execute_result"
    }
   ],
   "source": [
    "s1.isTeen(18)"
   ]
  },
  {
   "cell_type": "code",
   "execution_count": null,
   "id": "ba020e5f",
   "metadata": {},
   "outputs": [],
   "source": [
    "class A:\n",
    "    def B(self):\n",
    "        self.age=20\n",
    "    def C(self):\n",
    "        print(self.age)"
   ]
  },
  {
   "cell_type": "code",
   "execution_count": 64,
   "id": "a2b4da4f",
   "metadata": {},
   "outputs": [],
   "source": [
    "s1=A()"
   ]
  },
  {
   "cell_type": "code",
   "execution_count": 66,
   "id": "f8c0e65c",
   "metadata": {},
   "outputs": [],
   "source": [
    "s1.B()"
   ]
  },
  {
   "cell_type": "code",
   "execution_count": 67,
   "id": "425b6ef2",
   "metadata": {},
   "outputs": [
    {
     "name": "stdout",
     "output_type": "stream",
     "text": [
      "20\n"
     ]
    }
   ],
   "source": [
    "s1.C()"
   ]
  },
  {
   "cell_type": "code",
   "execution_count": 77,
   "id": "fb795ab4",
   "metadata": {},
   "outputs": [
    {
     "name": "stdout",
     "output_type": "stream",
     "text": [
      "Hey! Welcome to School\n"
     ]
    }
   ],
   "source": [
    "s1.welcomeToSchool()"
   ]
  },
  {
   "cell_type": "code",
   "execution_count": 83,
   "id": "03eb8740",
   "metadata": {},
   "outputs": [],
   "source": [
    "class Student:\n",
    "    def __init__(self,name,rollNumber):\n",
    "        self.name=name\n",
    "        self.rollNumber=rollNumber"
   ]
  },
  {
   "cell_type": "code",
   "execution_count": 79,
   "id": "abab98ce",
   "metadata": {},
   "outputs": [],
   "source": [
    "s1=Student()"
   ]
  },
  {
   "cell_type": "code",
   "execution_count": 80,
   "id": "27bdd8fa",
   "metadata": {},
   "outputs": [
    {
     "data": {
      "text/plain": [
       "{'name': 'abc', 'rollNumber': 12}"
      ]
     },
     "execution_count": 80,
     "metadata": {},
     "output_type": "execute_result"
    }
   ],
   "source": [
    "s1.__dict__"
   ]
  },
  {
   "cell_type": "code",
   "execution_count": 81,
   "id": "0179cf38",
   "metadata": {},
   "outputs": [
    {
     "data": {
      "text/plain": [
       "{'name': 'abc', 'rollNumber': 12}"
      ]
     },
     "execution_count": 81,
     "metadata": {},
     "output_type": "execute_result"
    }
   ],
   "source": [
    "s2=Student()\n",
    "s2.__dict__"
   ]
  },
  {
   "cell_type": "code",
   "execution_count": 82,
   "id": "09183709",
   "metadata": {},
   "outputs": [
    {
     "data": {
      "text/plain": [
       "(<__main__.Student at 0x1ebaf5d6a30>, <__main__.Student at 0x1ebaf6c53d0>)"
      ]
     },
     "execution_count": 82,
     "metadata": {},
     "output_type": "execute_result"
    }
   ],
   "source": [
    "s1,s2"
   ]
  },
  {
   "cell_type": "code",
   "execution_count": 84,
   "id": "076a4d1b",
   "metadata": {},
   "outputs": [],
   "source": [
    "s3=Student(\"Pratik\",15)"
   ]
  },
  {
   "cell_type": "code",
   "execution_count": 85,
   "id": "0d89761f",
   "metadata": {},
   "outputs": [
    {
     "data": {
      "text/plain": [
       "{'name': 'Pratik', 'rollNumber': 15}"
      ]
     },
     "execution_count": 85,
     "metadata": {},
     "output_type": "execute_result"
    }
   ],
   "source": [
    "s3.__dict__"
   ]
  },
  {
   "cell_type": "code",
   "execution_count": 97,
   "id": "a42e77d7",
   "metadata": {},
   "outputs": [],
   "source": [
    "from datetime import date\n",
    "class Student:\n",
    "    passingPercentage=40\n",
    "    def __init__(self,name,age=15,percentage=80): \n",
    "        self.name=name\n",
    "        self.age=age\n",
    "        self.percentage=percentage\n",
    "    \n",
    "    @classmethod\n",
    "    def fromBirthYear(cls,name,year,percentage):\n",
    "        return cls(name,date.today().year-year,percentage)\n",
    "    \n",
    "    def studentDetails(self):\n",
    "        print(\"Name=\", self.name)\n",
    "        print(\"Age=\", self.age)\n",
    "        print(\"Percentage=\", self.percentage)\n",
    "    \n",
    "    def isPassed(self):\n",
    "        if self.percentage > Student.passingPercentage:\n",
    "            print(\"Student is passed\")\n",
    "        else:\n",
    "            print(\"Student is not passed\")\n",
    "    @staticmethod\n",
    "    def welcomeToSchool():\n",
    "        print(\"Hey! Welcome to School\")\n",
    "    \n",
    "    @staticmethod\n",
    "    def isTeen():   \n",
    "        return age>16"
   ]
  },
  {
   "cell_type": "code",
   "execution_count": 98,
   "id": "7271fb06",
   "metadata": {},
   "outputs": [],
   "source": [
    "s1=Student(\"Akshay\")"
   ]
  },
  {
   "cell_type": "code",
   "execution_count": 99,
   "id": "d0cd0560",
   "metadata": {},
   "outputs": [],
   "source": [
    "s1=Student.fromBirthYear(\"Akshay\",2001,80)"
   ]
  },
  {
   "cell_type": "code",
   "execution_count": 100,
   "id": "88580c3e",
   "metadata": {},
   "outputs": [
    {
     "name": "stdout",
     "output_type": "stream",
     "text": [
      "Name= Akshay\n",
      "Age= 21\n",
      "Percentage= 80\n"
     ]
    }
   ],
   "source": [
    "s1.studentDetails()"
   ]
  },
  {
   "cell_type": "code",
   "execution_count": 118,
   "id": "07e72024",
   "metadata": {},
   "outputs": [],
   "source": [
    "class Student:\n",
    "    __passingPercentage=40\n",
    "    \n",
    "    def __init__(self,name,age=15,percentage=80): \n",
    "        self.__name=name\n",
    "        self.age=age\n",
    "        self.percentage=percentage\n",
    "        \n",
    "    def studentDetails(self):\n",
    "        print(\"Name=\", self.__name)\n",
    "        print(\"Age=\", self.age)\n",
    "        print(\"Percentage=\", self.percentage)"
   ]
  },
  {
   "cell_type": "code",
   "execution_count": 119,
   "id": "5818ed5a",
   "metadata": {},
   "outputs": [],
   "source": [
    "s1=Student(\"Akshay\")"
   ]
  },
  {
   "cell_type": "code",
   "execution_count": 115,
   "id": "5969b9a5",
   "metadata": {},
   "outputs": [
    {
     "name": "stdout",
     "output_type": "stream",
     "text": [
      "Name= Akshay\n",
      "Age= 15\n",
      "Percentage= 80\n"
     ]
    }
   ],
   "source": [
    "#s1.name\n",
    "s1.studentDetails()  #accessing private variable"
   ]
  },
  {
   "cell_type": "code",
   "execution_count": 116,
   "id": "8111e665",
   "metadata": {},
   "outputs": [
    {
     "data": {
      "text/plain": [
       "'Akshay'"
      ]
     },
     "execution_count": 116,
     "metadata": {},
     "output_type": "execute_result"
    }
   ],
   "source": [
    "s1._Student__name  #not recommended as a developer"
   ]
  },
  {
   "cell_type": "code",
   "execution_count": 120,
   "id": "9212411b",
   "metadata": {},
   "outputs": [
    {
     "data": {
      "text/plain": [
       "40"
      ]
     },
     "execution_count": 120,
     "metadata": {},
     "output_type": "execute_result"
    }
   ],
   "source": [
    "s1._Student__passingPercentage"
   ]
  },
  {
   "cell_type": "code",
   "execution_count": 176,
   "id": "4426b143",
   "metadata": {},
   "outputs": [],
   "source": [
    "class Fraction:\n",
    "    def __init__(self,num=0,den=1):\n",
    "        \n",
    "        if den==0:\n",
    "            den=1\n",
    "        self.num=num\n",
    "        self.den=den\n",
    "        \n",
    "    def print(self):\n",
    "        if self.num==0:\n",
    "            print(0)\n",
    "        elif self.den==1:\n",
    "            print(self.num)\n",
    "        else:\n",
    "            print(self.num,\"/\",self.den)\n",
    "            \n",
    "    def simplify(self):\n",
    "        if self.num==0:\n",
    "            self.den=1\n",
    "            return\n",
    "        current=min(self.num,self.den)\n",
    "        while current > 1:\n",
    "            if self.num%current==0 and self.den%current==0:\n",
    "                break\n",
    "            current-=1\n",
    "        self.num=self.num//current\n",
    "        self.den=self.den//current\n",
    "        \n",
    "    def add(self,otherFraction):\n",
    "        newNum = otherFraction.den * self.num + otherFraction.num * self.den\n",
    "        newDen = otherFraction.den * self.den\n",
    "        \n",
    "        self.num=newNum\n",
    "        self.den=newDen\n",
    "        self.simplify()\n",
    "        \n",
    "    def multiply(self,otherFraction):\n",
    "        newNum = otherFraction.num * self.num\n",
    "        newDen = otherFraction.den * self.den\n",
    "        \n",
    "        self.num=newNum\n",
    "        self.den=newDen\n",
    "        self.simplify()"
   ]
  },
  {
   "cell_type": "code",
   "execution_count": 146,
   "id": "4b388dc9",
   "metadata": {},
   "outputs": [],
   "source": [
    "f=Fraction(2,3)"
   ]
  },
  {
   "cell_type": "code",
   "execution_count": 130,
   "id": "01c3e8ed",
   "metadata": {},
   "outputs": [
    {
     "data": {
      "text/plain": [
       "{'num': 2, 'den': 3}"
      ]
     },
     "execution_count": 130,
     "metadata": {},
     "output_type": "execute_result"
    }
   ],
   "source": [
    "f.__dict__"
   ]
  },
  {
   "cell_type": "code",
   "execution_count": 133,
   "id": "e407fc0d",
   "metadata": {},
   "outputs": [
    {
     "data": {
      "text/plain": [
       "{'num': 0, 'den': 1}"
      ]
     },
     "execution_count": 133,
     "metadata": {},
     "output_type": "execute_result"
    }
   ],
   "source": [
    "f2=Fraction()\n",
    "f2.__dict__"
   ]
  },
  {
   "cell_type": "code",
   "execution_count": 134,
   "id": "d79dc546",
   "metadata": {},
   "outputs": [
    {
     "data": {
      "text/plain": [
       "{'num': 3, 'den': 1}"
      ]
     },
     "execution_count": 134,
     "metadata": {},
     "output_type": "execute_result"
    }
   ],
   "source": [
    "f3=Fraction(3)\n",
    "f3.__dict__"
   ]
  },
  {
   "cell_type": "code",
   "execution_count": 144,
   "id": "35ee2c89",
   "metadata": {},
   "outputs": [
    {
     "name": "stdout",
     "output_type": "stream",
     "text": [
      "2 / 3\n"
     ]
    }
   ],
   "source": [
    "f.print()"
   ]
  },
  {
   "cell_type": "code",
   "execution_count": 148,
   "id": "35a42b83",
   "metadata": {},
   "outputs": [
    {
     "name": "stdout",
     "output_type": "stream",
     "text": [
      "2\n"
     ]
    }
   ],
   "source": [
    "f=Fraction(2,1)\n",
    "f.print()"
   ]
  },
  {
   "cell_type": "code",
   "execution_count": 152,
   "id": "e19d528c",
   "metadata": {},
   "outputs": [
    {
     "name": "stdout",
     "output_type": "stream",
     "text": [
      "14 / 6\n",
      "7 / 3\n"
     ]
    }
   ],
   "source": [
    "f=Fraction(14,6)\n",
    "f.print()\n",
    "f.simplify()\n",
    "f.print()"
   ]
  },
  {
   "cell_type": "code",
   "execution_count": 158,
   "id": "f2a84c4e",
   "metadata": {},
   "outputs": [
    {
     "name": "stdout",
     "output_type": "stream",
     "text": [
      "0\n",
      "0\n"
     ]
    }
   ],
   "source": [
    "f=Fraction(0,5)\n",
    "f.print()\n",
    "f.simplify()\n",
    "f.print()"
   ]
  },
  {
   "cell_type": "code",
   "execution_count": 168,
   "id": "dfaaea47",
   "metadata": {},
   "outputs": [
    {
     "name": "stdout",
     "output_type": "stream",
     "text": [
      "11 / 15\n"
     ]
    }
   ],
   "source": [
    "f1=Fraction(2,5)\n",
    "f2=Fraction(1,3)\n",
    "f1.add(f2)\n",
    "f1.print()"
   ]
  },
  {
   "cell_type": "code",
   "execution_count": 170,
   "id": "4888ad8f",
   "metadata": {},
   "outputs": [
    {
     "name": "stdout",
     "output_type": "stream",
     "text": [
      "1\n"
     ]
    }
   ],
   "source": [
    "f1=Fraction(2,3)\n",
    "f2=Fraction(1,3)\n",
    "f1.add(f2)\n",
    "f1.print()"
   ]
  },
  {
   "cell_type": "code",
   "execution_count": 177,
   "id": "7a3fdb15",
   "metadata": {},
   "outputs": [
    {
     "name": "stdout",
     "output_type": "stream",
     "text": [
      "7 / 12\n"
     ]
    }
   ],
   "source": [
    "f1=Fraction(4,6)\n",
    "f2=Fraction(7,8)\n",
    "f1.multiply(f2)\n",
    "f1.print()"
   ]
  },
  {
   "cell_type": "markdown",
   "id": "cc94865f",
   "metadata": {},
   "source": [
    "INHERITANCE"
   ]
  },
  {
   "cell_type": "code",
   "execution_count": 195,
   "id": "22a2263e",
   "metadata": {},
   "outputs": [],
   "source": [
    "class Vehicle:\n",
    "    def __init__(self,color,maxSpeed):\n",
    "        self.color = color\n",
    "        self.__maxSpeed = maxSpeed\n",
    "        \n",
    "    def getMaxSpeed(self):\n",
    "        return self.__maxSpeed\n",
    "        \n",
    "    def setMaxSpeed(self,maxSpeed):\n",
    "        self.__maxSpeed = maxSpeed\n",
    "        \n",
    "class Car(Vehicle):\n",
    "        def __init__(self,color,maxSpeed,numGears,isConvertible):\n",
    "            super().__init__(color,maxSpeed)       #super() for accessing base class\n",
    "            self.numGears = numGears\n",
    "            self.isConvertible = isConvertible\n",
    "            \n",
    "        def printCar(self):\n",
    "            print(\"Color :\", self.color)\n",
    "            print(\"MaxSpeed :\", self.getMaxSpeed())\n",
    "            print(\"NumGears :\", self.numGears)\n",
    "            print(\"IsConvertible :\", self.isConvertible)"
   ]
  },
  {
   "cell_type": "code",
   "execution_count": 196,
   "id": "8484b34e",
   "metadata": {},
   "outputs": [],
   "source": [
    "c = Car(\"red\",15,3,False)"
   ]
  },
  {
   "cell_type": "code",
   "execution_count": 197,
   "id": "f88bbecc",
   "metadata": {},
   "outputs": [
    {
     "name": "stdout",
     "output_type": "stream",
     "text": [
      "Color : red\n",
      "MaxSpeed : 15\n",
      "NumGears : 3\n",
      "IsConvertible : False\n"
     ]
    }
   ],
   "source": [
    "c.printCar()"
   ]
  },
  {
   "cell_type": "code",
   "execution_count": 201,
   "id": "1c07a089",
   "metadata": {},
   "outputs": [],
   "source": [
    "class Vehicle:\n",
    "    def __init__(self,color,maxSpeed):\n",
    "        self.color = color\n",
    "        self.__maxSpeed = maxSpeed\n",
    "        \n",
    "    def getMaxSpeed(self):\n",
    "        return self.__maxSpeed\n",
    "        \n",
    "    def setMaxSpeed(self,maxSpeed):\n",
    "        self.__maxSpeed = maxSpeed\n",
    "        \n",
    "    def print(self):\n",
    "        print(\"Color :\",self.color)\n",
    "        print(\"MaxSpeed :\", self.__maxSpeed)\n",
    "        \n",
    "class Car(Vehicle):\n",
    "        def __init__(self,color,maxSpeed,numGears,isConvertible):\n",
    "            super().__init__(color,maxSpeed)       #super() for accessing base class\n",
    "            self.numGears = numGears\n",
    "            self.isConvertible = isConvertible\n",
    "            \n",
    "        def printCar(self):\n",
    "            self.print()\n",
    "            super().print()\n",
    "            print(\"NumGears :\", self.numGears)\n",
    "            print(\"IsConvertible :\", self.isConvertible)"
   ]
  },
  {
   "cell_type": "code",
   "execution_count": 202,
   "id": "c8270ae6",
   "metadata": {},
   "outputs": [],
   "source": [
    "c = Car(\"red\",15,3,False)"
   ]
  },
  {
   "cell_type": "code",
   "execution_count": 203,
   "id": "4b8b77d9",
   "metadata": {},
   "outputs": [
    {
     "name": "stdout",
     "output_type": "stream",
     "text": [
      "Color : red\n",
      "MaxSpeed : 15\n",
      "Color : red\n",
      "MaxSpeed : 15\n",
      "NumGears : 3\n",
      "IsConvertible : False\n"
     ]
    }
   ],
   "source": [
    "c.printCar()"
   ]
  },
  {
   "cell_type": "markdown",
   "id": "558e3ea6",
   "metadata": {},
   "source": [
    "POLYMORPHISM"
   ]
  },
  {
   "cell_type": "code",
   "execution_count": 10,
   "id": "f873e799",
   "metadata": {},
   "outputs": [],
   "source": [
    "class Vehicle:\n",
    "    def __init__(self,color,maxSpeed):\n",
    "        self.color = color\n",
    "        self.maxSpeed = maxSpeed\n",
    "\n",
    "        \n",
    "    def print(self):\n",
    "        print(\"Color :\",self.color)\n",
    "        print(\"MaxSpeed :\", self.maxSpeed)\n",
    "        \n",
    "class Car(Vehicle):\n",
    "        def __init__(self,color,maxSpeed,numGears,isConvertible):\n",
    "            super().__init__(color,maxSpeed)       #super() for accessing base class\n",
    "            self.numGears = numGears\n",
    "            self.isConvertible = isConvertible\n",
    "            \n",
    "        def print(self):\n",
    "            #self.print() recursion limit\n",
    "            super().print()\n",
    "            print()\n",
    "            print(\"NumGears :\", self.numGears)\n",
    "            print(\"IsConvertible :\", self.isConvertible)"
   ]
  },
  {
   "cell_type": "code",
   "execution_count": 11,
   "id": "b66cbc2c",
   "metadata": {},
   "outputs": [],
   "source": [
    "c = Car(\"red\",15,3,False)"
   ]
  },
  {
   "cell_type": "code",
   "execution_count": 12,
   "id": "907590fd",
   "metadata": {},
   "outputs": [
    {
     "name": "stdout",
     "output_type": "stream",
     "text": [
      "Color : red\n",
      "MaxSpeed : 15\n",
      "\n",
      "NumGears : 3\n",
      "IsConvertible : False\n"
     ]
    }
   ],
   "source": [
    "c.print()"
   ]
  },
  {
   "cell_type": "code",
   "execution_count": 13,
   "id": "6977a7c1",
   "metadata": {},
   "outputs": [
    {
     "name": "stdout",
     "output_type": "stream",
     "text": [
      "Color : red\n",
      "MaxSpeed : 18\n"
     ]
    }
   ],
   "source": [
    "v=Vehicle(\"red\", 18)\n",
    "v.print()"
   ]
  },
  {
   "cell_type": "code",
   "execution_count": 17,
   "id": "340e27bd",
   "metadata": {},
   "outputs": [],
   "source": [
    "class Vehicle:\n",
    "    def __init__(self,color,maxSpeed):\n",
    "        self.color = color\n",
    "        self._maxSpeed = maxSpeed\n",
    "        \n",
    "    def getMaxSpeed(self):\n",
    "        return self._maxSpeed\n",
    "        \n",
    "    def setMaxSpeed(self,maxSpeed):\n",
    "        self._maxSpeed = maxSpeed\n",
    "        \n",
    "    def print(self):\n",
    "        print(\"Color :\",self.color)\n",
    "        print(\"MaxSpeed :\", self._maxSpeed)\n",
    "        \n",
    "class Car(Vehicle):\n",
    "        def __init__(self,color,maxSpeed,numGears,isConvertible):\n",
    "            super().__init__(color,maxSpeed)       #super() for accessing base class\n",
    "            self.numGears = numGears\n",
    "            self.isConvertible = isConvertible\n",
    "            \n",
    "        def print(self):\n",
    "            print(\"Color :\",self.color)\n",
    "            print(\"MaxSpeed :\", self._maxSpeed)        \n",
    "            #super().print()\n",
    "            print(\"NumGears :\", self.numGears)\n",
    "            print(\"IsConvertible :\", self.isConvertible)"
   ]
  },
  {
   "cell_type": "code",
   "execution_count": 18,
   "id": "30727fd5",
   "metadata": {},
   "outputs": [
    {
     "name": "stdout",
     "output_type": "stream",
     "text": [
      "Color : red\n",
      "MaxSpeed : 15\n",
      "NumGears : 3\n",
      "IsConvertible : False\n"
     ]
    }
   ],
   "source": [
    "c = Car(\"red\",15,3,False)\n",
    "c.print()\n",
    "#single underscore for protected members same as public but python thinks programmers are sensible \n",
    "#so they shouldn't try to modify it And try to access it as minmum as possible"
   ]
  },
  {
   "cell_type": "code",
   "execution_count": 19,
   "id": "0fab2de6",
   "metadata": {},
   "outputs": [
    {
     "name": "stdout",
     "output_type": "stream",
     "text": [
      "Color : red\n",
      "MaxSpeed : 18\n",
      "Color : red\n",
      "MaxSpeed : 19\n"
     ]
    }
   ],
   "source": [
    "v=Vehicle(\"red\", 18)\n",
    "v.print()\n",
    "v._maxSpeed = 19\n",
    "v.print()"
   ]
  },
  {
   "cell_type": "code",
   "execution_count": 24,
   "id": "95169271",
   "metadata": {},
   "outputs": [],
   "source": [
    "class Circle(object):\n",
    "    def __init__(self,radius):\n",
    "        self.__radius=radius\n",
    "        \n",
    "    def __str__(self):\n",
    "        return \"This is a Circle class which takes radius as an argument\"\n",
    "    \n",
    "#__new__"
   ]
  },
  {
   "cell_type": "code",
   "execution_count": 23,
   "id": "5bba7627",
   "metadata": {},
   "outputs": [
    {
     "name": "stdout",
     "output_type": "stream",
     "text": [
      "<__main__.Circle object at 0x000002598E2F3EE0>\n"
     ]
    }
   ],
   "source": [
    "c=Circle(3)\n",
    "print(c)"
   ]
  },
  {
   "cell_type": "code",
   "execution_count": 26,
   "id": "c758c365",
   "metadata": {},
   "outputs": [
    {
     "name": "stdout",
     "output_type": "stream",
     "text": [
      "This is a Circle class which takes radius as an argument\n"
     ]
    }
   ],
   "source": [
    "c=Circle(3)\n",
    "print(c)"
   ]
  },
  {
   "cell_type": "code",
   "execution_count": 41,
   "id": "b3053916",
   "metadata": {},
   "outputs": [],
   "source": [
    "class Mother:\n",
    "    \n",
    "    def __init__(self):\n",
    "        self.name=\"Manju\"\n",
    "    \n",
    "    def print(self):\n",
    "        print(\"Print of Mother called\")\n",
    "\n",
    "class Father:\n",
    "    \n",
    "    def __init__(self):\n",
    "        self.name=\"Ajay\"\n",
    "        super().__init__()\n",
    "    \n",
    "    def print(self):\n",
    "        print(\"Print of Father called\")\n",
    "        \n",
    "class Child(Father,Mother):\n",
    "    def __init__(self):\n",
    "        super().__init__()\n",
    "        \n",
    "    def printChild(self):\n",
    "        print(\"Name of child is\", self.name)"
   ]
  },
  {
   "cell_type": "code",
   "execution_count": 42,
   "id": "3d778a66",
   "metadata": {},
   "outputs": [],
   "source": [
    "c=Child()"
   ]
  },
  {
   "cell_type": "code",
   "execution_count": 43,
   "id": "9c0e6b4a",
   "metadata": {},
   "outputs": [
    {
     "name": "stdout",
     "output_type": "stream",
     "text": [
      "Name of child is Manju\n"
     ]
    }
   ],
   "source": [
    "c.printChild()"
   ]
  },
  {
   "cell_type": "code",
   "execution_count": 44,
   "id": "8dcab665",
   "metadata": {},
   "outputs": [
    {
     "name": "stdout",
     "output_type": "stream",
     "text": [
      "Print of Father called\n"
     ]
    }
   ],
   "source": [
    "c.print()"
   ]
  },
  {
   "cell_type": "code",
   "execution_count": 45,
   "id": "a472af6b",
   "metadata": {},
   "outputs": [
    {
     "data": {
      "text/plain": [
       "[__main__.Child, __main__.Father, __main__.Mother, object]"
      ]
     },
     "execution_count": 45,
     "metadata": {},
     "output_type": "execute_result"
    }
   ],
   "source": [
    "Child.mro()"
   ]
  },
  {
   "cell_type": "code",
   "execution_count": 46,
   "id": "7428d1e7",
   "metadata": {},
   "outputs": [],
   "source": [
    "#Method of resolution = DFS"
   ]
  },
  {
   "cell_type": "code",
   "execution_count": 67,
   "id": "1b04af5a",
   "metadata": {},
   "outputs": [],
   "source": [
    "import math\n",
    "\n",
    "class Point:\n",
    "    \n",
    "    def __init__(self,x,y):\n",
    "        self.__x=x\n",
    "        self.__y=y\n",
    "    \n",
    "    def __str__(self):\n",
    "        return \"This point is at (\"+str(self.__x)+\",\"+str(self.__y)+\")\"\n",
    "    \n",
    "    def __add__(self,point_object):   #Overloading\n",
    "        return Point(self.__x + point_object.__x,self.__y + point_object.__y)\n",
    "    \n",
    "    def __lt__(self,point_object):    #Overriding\n",
    "        return math.sqrt(self.__x**2 + self.__y**2) < math.sqrt(point_object.__x**2 + point_object.__y**2)"
   ]
  },
  {
   "cell_type": "code",
   "execution_count": 68,
   "id": "1ca8afac",
   "metadata": {},
   "outputs": [
    {
     "name": "stdout",
     "output_type": "stream",
     "text": [
      "This point is at (4,6)\n",
      "True\n"
     ]
    }
   ],
   "source": [
    "p1=Point(1,2)\n",
    "p2=Point(3,4)\n",
    "p3=p1+p2\n",
    "print(p3)\n",
    "print(p1<p2)"
   ]
  },
  {
   "cell_type": "markdown",
   "id": "8efba11b",
   "metadata": {},
   "source": [
    "ABSTRACTION"
   ]
  },
  {
   "cell_type": "code",
   "execution_count": 89,
   "id": "59413b27",
   "metadata": {},
   "outputs": [],
   "source": [
    "from abc import ABC,abstractmethod\n",
    "\n",
    "class Automobile(ABC):\n",
    "    \n",
    "    def __init__(self,no_of_wheels):\n",
    "        self.no_of_wheels = no_of_wheels\n",
    "        print(\"Automobile Created\")\n",
    "        \n",
    "    @abstractmethod\n",
    "    def start(self):\n",
    "        print(\"Start of Automobile called\")\n",
    "    \n",
    "    @abstractmethod\n",
    "    def stop(self):\n",
    "        pass\n",
    "    \n",
    "    @abstractmethod\n",
    "    def drive(self):\n",
    "        pass\n",
    "    \n",
    "    @abstractmethod\n",
    "    def get_no_of_wheels(self):\n",
    "        return self.no_of_wheels\n",
    "    \n",
    "class Car(Automobile):\n",
    "    \n",
    "    def __init__(self,name):\n",
    "        print(\"Car Created\")\n",
    "        self.name=name\n",
    "        \n",
    "    def start(self):\n",
    "        super().start()\n",
    "        print(\"Start of Car called\")\n",
    "    \n",
    "    def stop(self):\n",
    "        pass\n",
    "    \n",
    "    def drive(self):\n",
    "        pass\n",
    "    \n",
    "    def get_no_of_wheels(self):\n",
    "        return super().get_no_of_wheels()"
   ]
  },
  {
   "cell_type": "code",
   "execution_count": 79,
   "id": "acc48bdf",
   "metadata": {},
   "outputs": [
    {
     "name": "stdout",
     "output_type": "stream",
     "text": [
      "Car Created\n"
     ]
    }
   ],
   "source": [
    "c=Car(\"Honda\")"
   ]
  },
  {
   "cell_type": "code",
   "execution_count": 80,
   "id": "8935bc7b",
   "metadata": {},
   "outputs": [],
   "source": [
    "#Objects of abstract class cannot be created\n",
    "#Implement all the abstract methods in child class"
   ]
  },
  {
   "cell_type": "code",
   "execution_count": 75,
   "id": "09f6cc3c",
   "metadata": {},
   "outputs": [
    {
     "name": "stdout",
     "output_type": "stream",
     "text": [
      "Start of Automobile called\n",
      "Start of Car called\n"
     ]
    }
   ],
   "source": [
    "c.start()"
   ]
  },
  {
   "cell_type": "code",
   "execution_count": 92,
   "id": "dc95d5bc",
   "metadata": {},
   "outputs": [],
   "source": [
    "#c=Car(4)\n",
    "#c.get_no_of_wheels()\n",
    "#Automobile Creted\n",
    "#4"
   ]
  },
  {
   "cell_type": "markdown",
   "id": "c835e6bf",
   "metadata": {},
   "source": [
    "# Exception handling"
   ]
  },
  {
   "cell_type": "code",
   "execution_count": 98,
   "id": "576f876c",
   "metadata": {},
   "outputs": [
    {
     "name": "stdout",
     "output_type": "stream",
     "text": [
      "1\n",
      "a\n",
      "Numerator and Denominator should be integers\n",
      "1\n",
      "0\n",
      "ZeroDinominatorError is raised\n",
      "4\n",
      "2\n",
      "2.0\n"
     ]
    }
   ],
   "source": [
    "class ZeroDenominatorError(Exception):\n",
    "    pass\n",
    "while True:\n",
    "    try:\n",
    "        num=int(input())\n",
    "        den=int(input())\n",
    "        if den==0:\n",
    "            raise ZeroDenominatorError(\"Denominator should not be zero\")\n",
    "        value=num/den\n",
    "    except ValueError:\n",
    "        print(\"Numerator and Denominator should be integers\")\n",
    "    except ZeroDivisionError:\n",
    "        print(\"Division by zeros is not allowed\")\n",
    "    except ZeroDenominatorError:\n",
    "        print(\"ZeroDinominatorError is raised\")\n",
    "    #except (ValueError,ZeroDivisionError):\n",
    "        # print(\"Numerator and Denominator should be integers and Denominator should not be Zero\")\n",
    "    else:\n",
    "        print(value) #executed when no exception is occured\n",
    "        break\n",
    "    finally:\n",
    "        print(\"Exception may or may not be raised\") #always executed"
   ]
  },
  {
   "cell_type": "code",
   "execution_count": null,
   "id": "b8a2b554",
   "metadata": {},
   "outputs": [],
   "source": []
  }
 ],
 "metadata": {
  "kernelspec": {
   "display_name": "Python 3 (ipykernel)",
   "language": "python",
   "name": "python3"
  },
  "language_info": {
   "codemirror_mode": {
    "name": "ipython",
    "version": 3
   },
   "file_extension": ".py",
   "mimetype": "text/x-python",
   "name": "python",
   "nbconvert_exporter": "python",
   "pygments_lexer": "ipython3",
   "version": "3.9.7"
  }
 },
 "nbformat": 4,
 "nbformat_minor": 5
}
